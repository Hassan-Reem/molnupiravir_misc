{
 "cells": [
  {
   "cell_type": "code",
   "execution_count": 1,
   "id": "b92e82a1",
   "metadata": {},
   "outputs": [],
   "source": [
    "import pandas as pd\n",
    "import os\n",
    "from Bio import Entrez, SeqIO\n",
    "from collections import Counter\n",
    "import numpy as np\n",
    "from scipy.stats import multinomial\n",
    "import numpy as np\n",
    "\n"
   ]
  },
  {
   "cell_type": "code",
   "execution_count": 2,
   "id": "e7abfd34",
   "metadata": {},
   "outputs": [],
   "source": [
    "file = \"nextclade.tsv\"\n",
    "df =pd.read_csv(file, delimiter=\"\\t\")\n",
    "#print(df[\"seqName\"])"
   ]
  },
  {
   "cell_type": "code",
   "execution_count": 3,
   "id": "bede5b0e",
   "metadata": {},
   "outputs": [],
   "source": [
    "spectra = [\n",
    "    {\"name\":\"BA.1\",\n",
    "     \"url\": \"https://raw.githubusercontent.com/theosanderson/molnupiravir/main/mutational_spectra/BA.1_SBS_spectrum_Ruis.csv\"\n",
    "    },\n",
    "    {\"name\":\"High G-to-A\",\n",
    "        \"url\": \"https://raw.githubusercontent.com/theosanderson/molnupiravir/main/mutational_spectra/long_phylogenetic_branches/long_branch_spectrum_rescaled.csv\"    \n",
    "    },\n",
    "]\n"
   ]
  },
  {
   "cell_type": "code",
   "execution_count": 4,
   "id": "79e1ed8a",
   "metadata": {},
   "outputs": [
    {
     "data": {
      "text/plain": [
       "0                                     [T6272A, T6559G]\n",
       "1    [C1613T, T5213C, G8366A, G10981A, G11128A, A12...\n",
       "2    [C1613T, T5213C, G8366A, G10981A, G11128A, A12...\n",
       "3                           [A1650G, C19512T, C20115T]\n",
       "4                  [C1593T, T12913C, A15667G, C16887T]\n",
       "5                  [C3382T, T19260C, A22002T, C29719T]\n",
       "6    [C1613T, T5213C, G8366A, G10981A, G11128A, A12...\n",
       "7                          [C25626A, C29203T, C29358T]\n",
       "8    [C1684T, C22883T, G24971A, G25507A, T26732C, G...\n",
       "9                   [G4006A, A5043G, A11827G, G17331T]\n",
       "Name: privateNucMutations.unlabeledSubstitutions, dtype: object"
      ]
     },
     "execution_count": 4,
     "metadata": {},
     "output_type": "execute_result"
    }
   ],
   "source": [
    "df['privateNucMutations.unlabeledSubstitutions'].str.split(\",\")"
   ]
  },
  {
   "cell_type": "code",
   "execution_count": 5,
   "id": "07e1edda",
   "metadata": {},
   "outputs": [
    {
     "name": "stdout",
     "output_type": "stream",
     "text": [
      "                                             seqName  \\\n",
      "0  hCoV-19/Sweden/4866925052/2021|EPI_ISL_1619277...   \n",
      "1  hCoV-19/England/MILK-3935CB1/2022|EPI_ISL_1096...   \n",
      "2  hCoV-19/England/LSPA-36AE7E2/2022|EPI_ISL_1010...   \n",
      "3  hCoV-19/England/CLIMB-CM7YMEGX/2024|EPI_ISL_19...   \n",
      "4  hCoV-19/Australia/NSW-SAVID-13821/2022|EPI_ISL...   \n",
      "5  hCoV-19/England/CLIMB-CM7YFZ3C/2024|EPI_ISL_19...   \n",
      "6  hCoV-19/England/MILK-392DB55/2022|EPI_ISL_1093...   \n",
      "7  hCoV-19/England/CLIMB-CM7YEX44/2025|EPI_ISL_20...   \n",
      "8  hCoV-19/England/CLIMB-CM7YRP1U/2024|EPI_ISL_19...   \n",
      "9  hCoV-19/England/CLIMB-CM7YKQDN/2025|EPI_ISL_20...   \n",
      "\n",
      "          privateNucMutations.unlabeledSubstitutions   G_to_A_%  \n",
      "0                                      T6272A,T6559G   0.000000  \n",
      "1  C1613T,T5213C,G8366A,G10981A,G11128A,A12682G,C...  42.857143  \n",
      "2  C1613T,T5213C,G8366A,G10981A,G11128A,A12682G,C...  42.857143  \n",
      "3                             A1650G,C19512T,C20115T   0.000000  \n",
      "4                     C1593T,T12913C,A15667G,C16887T   0.000000  \n",
      "5                     C3382T,T19260C,A22002T,C29719T   0.000000  \n",
      "6  C1613T,T5213C,G8366A,G10981A,G11128A,A12682G,C...  42.857143  \n",
      "7                            C25626A,C29203T,C29358T   0.000000  \n",
      "8     C1684T,C22883T,G24971A,G25507A,T26732C,G29808T  33.333333  \n",
      "9                      G4006A,A5043G,A11827G,G17331T  25.000000  \n"
     ]
    }
   ],
   "source": [
    "def GtoA_percent(muts):\n",
    "    mut_list=muts.split(\",\")\n",
    "    total=len(mut_list)\n",
    "    total_muts=0\n",
    "    G_to_A=0\n",
    "    for m in mut_list:\n",
    "        total_muts+=1\n",
    "        if m.startswith(\"G\") and m.endswith(\"A\"):\n",
    "            G_to_A+=1\n",
    "    if total > 0:\n",
    "        return((G_to_A/total_muts) * 100)\n",
    "df = pd.DataFrame(df)\n",
    "df[\"G_to_A_%\"] = df[\"privateNucMutations.unlabeledSubstitutions\"].apply(GtoA_percent)\n",
    "print(df[[\"seqName\", \"privateNucMutations.unlabeledSubstitutions\", \"G_to_A_%\"]])\n"
   ]
  },
  {
   "cell_type": "code",
   "execution_count": null,
   "id": "0013aabd",
   "metadata": {},
   "outputs": [],
   "source": [
    "def fetch_reference_genome(accession='NC_045512.2'):\n",
    "    Entrez.email = \"theo@theo.io\"  \n",
    "    handle = Entrez.efetch(db=\"nucleotide\", id=accession, rettype=\"fasta\", retmode=\"text\")\n",
    "    record = SeqIO.read(handle, \"fasta\")\n",
    "    handle.close()\n",
    "    return str(record.seq)\n",
    "reference_genome = fetch_reference_genome(\"NC_045512.2\")  # SARS-CoV-2 reference genome"
   ]
  },
  {
   "cell_type": "code",
   "execution_count": 7,
   "id": "25b0dbde",
   "metadata": {},
   "outputs": [
    {
     "data": {
      "text/plain": [
       "0                                              T>A,T>G\n",
       "1    C>T,T>C,G>A,G>A,G>A,A>G,C>T,G>A,C>T,C>T,A>G,C>...\n",
       "2    C>T,T>C,G>A,G>A,G>A,A>G,C>T,G>A,C>T,C>T,A>G,C>...\n",
       "3                                          A>G,C>T,C>T\n",
       "4                                      C>T,T>C,A>G,C>T\n",
       "5                                      C>T,T>C,A>T,C>T\n",
       "6    C>T,T>C,G>A,G>A,G>A,A>G,C>T,G>A,C>T,C>T,A>G,C>...\n",
       "7                                          C>A,C>T,C>T\n",
       "8                              C>T,C>T,G>A,G>A,T>C,G>T\n",
       "9                                      G>A,A>G,A>G,G>T\n",
       "Name: subs, dtype: object"
      ]
     },
     "execution_count": 7,
     "metadata": {},
     "output_type": "execute_result"
    }
   ],
   "source": [
    "def get_mut_type(mut_string):\n",
    "    return mut_string[0] + '>' + mut_string[-1]\n",
    "\n",
    "\n",
    "df[\"subs\"]=df[\"privateNucMutations.unlabeledSubstitutions\"].apply(lambda x: ','.join([get_mut_type(item) for item in x.split(',')]))\n",
    "df[\"subs\"]"
   ]
  },
  {
   "cell_type": "code",
   "execution_count": 8,
   "id": "d25508fb",
   "metadata": {},
   "outputs": [],
   "source": [
    "def count_all_trinucleotide_contexts(genome):\n",
    "    \"\"\"Count all trinucleotide contexts in genome\"\"\"\n",
    "    counts = Counter()\n",
    "    for i in range(len(genome)-2):\n",
    "        context = genome[i:i+3]\n",
    "        counts[context] += 1\n",
    "    return counts"
   ]
  },
  {
   "cell_type": "code",
   "execution_count": 9,
   "id": "6e40e7e0",
   "metadata": {},
   "outputs": [
    {
     "data": {
      "text/plain": [
       "0                                              GTA,CTT\n",
       "1    CCT,ATT,TGC,TGA,TGT,TAC,ACA,TGC,GCA,ACA,GAG,AC...\n",
       "2    CCT,ATT,TGC,TGA,TGT,TAC,ACA,TGC,GCA,ACA,GAG,AC...\n",
       "3                                          AAT,ACA,TCA\n",
       "4                                      TCC,TTA,GAA,ACA\n",
       "5                                      ACA,CTA,AAA,CCA\n",
       "6    CCT,ATT,TGC,TGA,TGT,TAC,ACA,TGC,GCA,ACA,GAG,AC...\n",
       "7                                          ACT,GCG,ACA\n",
       "8                              TCG,TCT,AGT,AGC,TTT,TGT\n",
       "9                                      AGT,CAG,AAG,AGA\n",
       "Name: context, dtype: object"
      ]
     },
     "execution_count": 9,
     "metadata": {},
     "output_type": "execute_result"
    }
   ],
   "source": [
    "def get_context(genome_seq, mutation):\n",
    "    pos = int(mutation[1:-1]) - 1  # -1 as Python uses 0-based indexing\n",
    "    context = genome_seq[pos-1:pos+2]  # get the base before and after\n",
    "    return context\n",
    "df[\"context\"]=df[\"privateNucMutations.unlabeledSubstitutions\"].apply(lambda x: ','.join([get_context(reference_genome, item) for item in x.split(',')]))\n",
    "df[\"context\"]   "
   ]
  },
  {
   "cell_type": "code",
   "execution_count": 34,
   "id": "464cd772",
   "metadata": {},
   "outputs": [
    {
     "data": {
      "text/plain": [
       "0                                      G[T>A]A,C[T>G]T\n",
       "1    C[C>T]T,A[T>C]T,T[G>A]C,T[G>A]A,T[G>A]T,T[A>G]...\n",
       "2    C[C>T]T,A[T>C]T,T[G>A]C,T[G>A]A,T[G>A]T,T[A>G]...\n",
       "3                              A[A>G]T,A[C>T]A,T[C>T]A\n",
       "4                      T[C>T]C,T[T>C]A,G[A>G]A,A[C>T]A\n",
       "5                      A[C>T]A,C[T>C]A,A[A>T]A,C[C>T]A\n",
       "6    C[C>T]T,A[T>C]T,T[G>A]C,T[G>A]A,T[G>A]T,T[A>G]...\n",
       "7                              A[C>A]T,G[C>T]G,A[C>T]A\n",
       "8      T[C>T]G,T[C>T]T,A[G>A]T,A[G>A]C,T[T>C]T,T[G>T]T\n",
       "9                      A[G>A]T,C[A>G]G,A[A>G]G,A[G>T]A\n",
       "Name: spectrum, dtype: object"
      ]
     },
     "execution_count": 34,
     "metadata": {},
     "output_type": "execute_result"
    }
   ],
   "source": [
    "def spectrum(subs, contexts):\n",
    "    subs= subs.split(',')\n",
    "    contexts = contexts.split(',')\n",
    "    spectra = []\n",
    "    for mutation, context in zip(subs, contexts):\n",
    "        spectra.append(f\"{context[0]}[{mutation}]{context[-1]}\")\n",
    "    return ','.join(spectra)\n",
    "df[\"spectrum\"] = df.apply(lambda row: spectrum(row[\"subs\"], row[\"context\"]), axis=1)\n",
    "df[\"spectrum\"]\n",
    "\n"
   ]
  },
  {
   "cell_type": "code",
   "execution_count": null,
   "id": "a16a18b7",
   "metadata": {},
   "outputs": [],
   "source": [
    "os.makedirs('~/Documents', exist_ok=True)  \n",
    "df.to_csv('~/Documents/gtoa_contexts.csv') \n",
    " "
   ]
  }
 ],
 "metadata": {
  "kernelspec": {
   "display_name": "Python 3",
   "language": "python",
   "name": "python3"
  },
  "language_info": {
   "codemirror_mode": {
    "name": "ipython",
    "version": 3
   },
   "file_extension": ".py",
   "mimetype": "text/x-python",
   "name": "python",
   "nbconvert_exporter": "python",
   "pygments_lexer": "ipython3",
   "version": "3.13.7"
  }
 },
 "nbformat": 4,
 "nbformat_minor": 5
}
