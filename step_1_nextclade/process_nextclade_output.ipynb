{
 "cells": [
  {
   "cell_type": "code",
   "execution_count": 2,
   "id": "b92e82a1",
   "metadata": {},
   "outputs": [],
   "source": [
    "import pandas as pd\n",
    "import os\n",
    "from Bio import Entrez, SeqIO\n",
    "import tqdm\n",
    "from collections import Counter\n",
    "import numpy as np\n",
    "from scipy.stats import multinomial\n",
    "import numpy as np\n",
    "import ast\n",
    "\n"
   ]
  },
  {
   "cell_type": "code",
   "execution_count": null,
   "id": "e7abfd34",
   "metadata": {},
   "outputs": [],
   "source": [
    "# Load the data\n",
    "iterator = pd.read_csv(\"/Users/reem/Mov/nextclade_results/final_results.tsv\",sep=\"\\t\",chunksize=1000)\n",
    "df = pd.concat([chunk for chunk in tqdm.tqdm(iterator, desc='Loading data')])\n",
    "\n"
   ]
  },
  {
   "cell_type": "code",
   "execution_count": 4,
   "id": "bede5b0e",
   "metadata": {},
   "outputs": [],
   "source": [
    "spectra = [\n",
    "    {\"name\":\"BA.1\",\n",
    "     \"url\": \"https://raw.githubusercontent.com/theosanderson/molnupiravir/main/mutational_spectra/BA.1_SBS_spectrum_Ruis.csv\"\n",
    "    },\n",
    "    {\"name\":\"High G-to-A\",\n",
    "        \"url\": \"https://raw.githubusercontent.com/theosanderson/molnupiravir/main/mutational_spectra/long_phylogenetic_branches/long_branch_spectrum_rescaled.csv\"    \n",
    "    },\n",
    "]\n"
   ]
  },
  {
   "cell_type": "code",
   "execution_count": 5,
   "id": "79e1ed8a",
   "metadata": {},
   "outputs": [
    {
     "data": {
      "text/plain": [
       "0      [G204A, C2445T, C4331T, C5621T, C5622T, C6633T...\n",
       "1                                                    NaN\n",
       "2                                                    NaN\n",
       "3                                              [G19999T]\n",
       "4                                        [G410T, A7881G]\n",
       "                             ...                        \n",
       "994                                             [A4759G]\n",
       "995                          [C11962T, C13694T, T18132C]\n",
       "996    [G3692T, G6476T, T13188C, T13626C, G16528A, G1...\n",
       "997    [G922A, C6428T, C8802T, G11108T, A18146G, G202...\n",
       "998                   [C1441T, A1732G, G27517A, G29734T]\n",
       "Name: privateNucMutations.unlabeledSubstitutions, Length: 999, dtype: object"
      ]
     },
     "execution_count": 5,
     "metadata": {},
     "output_type": "execute_result"
    }
   ],
   "source": [
    "df['privateNucMutations.unlabeledSubstitutions'].str.split(\",\")"
   ]
  },
  {
   "cell_type": "code",
   "execution_count": 2,
   "id": "07e1edda",
   "metadata": {},
   "outputs": [],
   "source": [
    "# def GtoA_percent(muts):\n",
    "#     mut_list=muts.split(\",\")\n",
    "#     total=len(mut_list)\n",
    "#     total_muts=0\n",
    "#     G_to_A=0\n",
    "#     for m in mut_list:\n",
    "#         total_muts+=1\n",
    "#         if m.startswith(\"G\") and m.endswith(\"A\"):\n",
    "#             G_to_A+=1\n",
    "#     if total > 0:\n",
    "#         return((G_to_A/total_muts) * 100)\n",
    "#df = pd.DataFrame(df)\n",
    "#df[\"G_to_A_%\"] = df[\"privateNucMutations.unlabeledSubstitutions\"].apply(GtoA_percent)\n",
    "#print(df[[\"seqName\", \"privateNucMutations.unlabeledSubstitutions\", \"G_to_A_%\"]])\n"
   ]
  },
  {
   "cell_type": "code",
   "execution_count": 7,
   "id": "0013aabd",
   "metadata": {},
   "outputs": [],
   "source": [
    "def fetch_reference_genome(accession='NC_045512.2'):\n",
    "    Entrez.email = \"theo@theo.io\"  \n",
    "    handle = Entrez.efetch(db=\"nucleotide\", id=accession, rettype=\"fasta\", retmode=\"text\")\n",
    "    record = SeqIO.read(handle, \"fasta\")\n",
    "    handle.close()\n",
    "    return str(record.seq)\n",
    "reference_genome = fetch_reference_genome(\"NC_045512.2\")  # SARS-CoV-2 reference genome"
   ]
  },
  {
   "cell_type": "code",
   "execution_count": 8,
   "id": "25b0dbde",
   "metadata": {},
   "outputs": [
    {
     "data": {
      "text/plain": [
       "0    G>A,C>T,C>T,C>T,C>T,C>T,C>T,G>A,C>T,A>C,A>T,G>...\n",
       "1                                                     \n",
       "2                                                     \n",
       "3                                                  G>T\n",
       "4                                              G>T,A>G\n",
       "Name: subs, dtype: object"
      ]
     },
     "execution_count": 8,
     "metadata": {},
     "output_type": "execute_result"
    }
   ],
   "source": [
    "def get_mut_type(mut_string):\n",
    "    if isinstance(mut_string, str) and len(mut_string) >= 2:\n",
    "        return mut_string[0] + '>' + mut_string[-1]\n",
    "    else:\n",
    "        return ''\n",
    "df[\"subs\"]=df[\"privateNucMutations.unlabeledSubstitutions\"].apply(lambda x: ','.join([get_mut_type(item) for item in x.split(',')])if isinstance(x, str) else '')\n",
    "df[\"subs\"].head()"
   ]
  },
  {
   "cell_type": "code",
   "execution_count": null,
   "id": "9cbd1343",
   "metadata": {},
   "outputs": [],
   "source": [
    "df[\"Counts\"] =df[\"subs\"].apply(lambda x: dict(Counter(x.split(\",\"))))\n",
    "df[\"Counts\"]"
   ]
  },
  {
   "cell_type": "code",
   "execution_count": null,
   "id": "9bdacd20",
   "metadata": {},
   "outputs": [],
   "source": [
    "def get_context(genome_seq, mutation):\n",
    "    if isinstance(mutation, str) and len(mutation) >= 2:\n",
    "        pos = int(mutation[1:-1]) - 1  # -1 as Python uses 0-based indexing\n",
    "        context = genome_seq[pos-1:pos+2]  # get the base before and after\n",
    "        return context\n",
    "    else:\n",
    "        return ''\n",
    "df[\"context\"]=df[\"privateNucMutations.unlabeledSubstitutions\"].apply(lambda x: ','.join([get_context(reference_genome, item) for item in x.split(',')])if isinstance(x, str) else '')\n",
    "df[\"context\"]   "
   ]
  },
  {
   "cell_type": "code",
   "execution_count": null,
   "id": "d25508fb",
   "metadata": {},
   "outputs": [],
   "source": [
    "# def count_all_trinucleotide_contexts(genome):\n",
    "#     \"\"\"Count all trinucleotide contexts in genome\"\"\"\n",
    "#     counts = Counter()\n",
    "#     for i in range(len(genome)-2):\n",
    "#         context = genome[i:i+3]\n",
    "#         counts[context] += 1\n",
    "#     return counts\n",
    "\n"
   ]
  },
  {
   "cell_type": "code",
   "execution_count": 11,
   "id": "464cd772",
   "metadata": {},
   "outputs": [
    {
     "data": {
      "text/plain": [
       "0    C[G>A]T,A[C>T]T,T[C>T]T,A[C>T]C,C[C>T]T,G[C>T]...\n",
       "1                                                     \n",
       "2                                                     \n",
       "3                                              A[G>T]T\n",
       "4                                      T[G>T]G,A[A>G]T\n",
       "Name: spectrum, dtype: object"
      ]
     },
     "execution_count": 11,
     "metadata": {},
     "output_type": "execute_result"
    }
   ],
   "source": [
    "def spectrum(subs, contexts):\n",
    "    if not isinstance(subs, str) or not isinstance(contexts, str):\n",
    "        return ''\n",
    "    if not subs.strip() or not contexts.strip():\n",
    "        return ''\n",
    "    subs= subs.split(',')\n",
    "    contexts = contexts.split(',')\n",
    "    spectra = []\n",
    "    for mutation, context in zip(subs, contexts): \n",
    "        spectra.append(f\"{context[0]}[{mutation}]{context[-1]}\")\n",
    "    return ','.join(spectra)\n",
    "   \n",
    "df[\"spectrum\"] = df.apply(lambda row: spectrum(row[\"subs\"], row[\"context\"]), axis=1)\n",
    "df[\"spectrum\"].head()\n",
    "\n"
   ]
  },
  {
   "cell_type": "code",
   "execution_count": null,
   "id": "a16a18b7",
   "metadata": {},
   "outputs": [
    {
     "data": {
      "text/plain": [
       "0      {'C[G>A]T': 1, 'A[G>A]G': 1, 'T[G>A]C': 1}\n",
       "1                                              {}\n",
       "2                                              {}\n",
       "3                                              {}\n",
       "4                                              {}\n",
       "                          ...                    \n",
       "994                                            {}\n",
       "995                                            {}\n",
       "996                                {'T[G>A]T': 1}\n",
       "997                  {'T[G>A]G': 1, 'G[G>A]A': 1}\n",
       "998                                {'G[G>A]G': 1}\n",
       "Name: context_counts, Length: 999, dtype: object"
      ]
     },
     "execution_count": 12,
     "metadata": {},
     "output_type": "execute_result"
    }
   ],
   "source": [
    "#Get Counts per substitution context\n",
    "def count_GtoA(spectrum):\n",
    "    counts = Counter()\n",
    "    if not isinstance(spectrum, str):\n",
    "        return {}\n",
    "    muts = spectrum.split(\",\")\n",
    "    for mut in muts:\n",
    "        if mut[2:5] == 'G>A':\n",
    "            counts[mut]+=1\n",
    "    return counts\n",
    "\n",
    "def count_AtoG(spectrum):\n",
    "    counts = Counter()\n",
    "    if not isinstance(spectrum, str):\n",
    "        return {}\n",
    "    muts = spectrum.split(\",\")\n",
    "    for mut in muts:\n",
    "        if mut[2:5] == 'A>G':\n",
    "            counts[mut]+=1\n",
    "    return counts\n",
    "\n",
    "def count_CtoT(spectrum):\n",
    "    counts = Counter()\n",
    "    if not isinstance(spectrum, str):\n",
    "        return {}\n",
    "    muts = spectrum.split(\",\")\n",
    "    for mut in muts:\n",
    "        if mut[2:5] == 'C>T':\n",
    "            counts[mut]+=1\n",
    "    return counts\n",
    "\n",
    "def count_TtoC(spectrum):\n",
    "    counts = Counter()\n",
    "    if not isinstance(spectrum, str):\n",
    "        return {}\n",
    "    muts = spectrum.split(\",\")\n",
    "    for mut in muts:\n",
    "        if mut[2:5] == 'T>C':\n",
    "            counts[mut]+=1\n",
    "    return counts\n",
    "\n",
    "df[\"G>A_counts\"] = df[\"spectrum\"].apply(count_GtoA)\n",
    "df[\"A>G_counts\"] = df[\"spectrum\"].apply(count_AtoG)\n",
    "df[\"C>T_counts\"] = df[\"spectrum\"].apply(count_CtoT)\n",
    "df[\"T>C_counts\"] = df[\"spectrum\"].apply(count_TtoC)\n",
    "print(df[\"G>A_counts\"].head())\n",
    "print(df[\"A>G_counts\"].head())\n",
    "print(df[\"C>T_counts\"].head())\n",
    "print(df[\"T>C_counts\"].head())\n",
    "\n",
    " "
   ]
  },
  {
   "cell_type": "code",
   "execution_count": null,
   "id": "ff7d01dc",
   "metadata": {},
   "outputs": [],
   "source": [
    "# Get Proportions per substitution context\n",
    "def get_proportion(df):\n",
    "    dict = {}\n",
    "    total = sum(df.values())\n",
    "    for key, value in df.items():\n",
    "        dict[key] = value/total\n",
    "       \n",
    "    return dict\n",
    "\n",
    "df[\"G>Aproportions\"] = df.apply(lambda row: get_proportion(row[\"G>A_counts\"]), axis=1)\n",
    "df[\"A>Gproportions\"] = df.apply(lambda row: get_proportion(row[\"A>G_counts\"]), axis=1)\n",
    "df[\"C>Tproportions\"] = df.apply(lambda row: get_proportion(row[\"C>T_counts\"]), axis=1)\n",
    "df[\"T>Cproportions\"] = df.apply(lambda row: get_proportion(row[\"T>C_counts\"]), axis=1)\n",
    "\n",
    "print(df[\"G>Aproportions\"].head())\n",
    "print(df[\"A>Gproportions\"].head())\n",
    "print(df[\"C>Tproportions\"].head())\n",
    "print(df[\"T>Cproportions\"].head())\n"
   ]
  },
  {
   "cell_type": "code",
   "execution_count": null,
   "id": "ac15c719",
   "metadata": {},
   "outputs": [
    {
     "name": "stdout",
     "output_type": "stream",
     "text": [
      "0     {'C>T': 8, 'G>A': 3, 'A>G': 3, 'A>C': 1, 'A>T'...\n",
      "1                                                    {}\n",
      "2                                                    {}\n",
      "3                                            {'G>T': 1}\n",
      "4                                  {'G>T': 1, 'A>G': 1}\n",
      "5                        {'T>C': 3, 'C>T': 2, 'A>G': 2}\n",
      "6                                  {'G>T': 2, 'G>A': 1}\n",
      "7                                  {'C>T': 4, 'A>G': 1}\n",
      "8              {'C>T': 2, 'T>C': 1, 'G>C': 1, 'C>A': 1}\n",
      "9                        {'C>T': 1, 'T>A': 1, 'T>G': 1}\n",
      "10    {'C>T': 7, 'T>C': 2, 'A>G': 1, 'A>T': 1, 'G>T'...\n",
      "11                       {'C>T': 4, 'G>T': 2, 'G>A': 1}\n",
      "12             {'C>T': 4, 'G>T': 3, 'T>G': 2, 'G>A': 1}\n",
      "13                                 {'C>T': 1, 'A>T': 1}\n",
      "14                                           {'C>T': 1}\n",
      "15                                                   {}\n",
      "16                                 {'C>T': 4, 'A>G': 1}\n",
      "17             {'C>T': 2, 'C>A': 2, 'G>T': 2, 'G>A': 1}\n",
      "18                       {'C>T': 4, 'G>A': 1, 'T>C': 1}\n",
      "19             {'C>T': 1, 'C>A': 1, 'A>C': 1, 'T>C': 1}\n",
      "Name: Counts, dtype: object\n",
      "<class 'pandas.core.series.Series'>\n"
     ]
    }
   ],
   "source": [
    "# Because df_Counts is not read as a dict in the next step\n",
    "\n",
    "df[\"Counts\"] = (\n",
    "    df[\"Counts\"]\n",
    "    .astype(str)\n",
    "    .str.replace(\"Counter(\", \"\")  # remove \"Counter(\"\n",
    "    .str.rstrip(\")\")                           # remove trailing \")\"\n",
    "    .apply(lambda x: ast.literal_eval(x) if x not in [\"\", \"nan\", \"Counter\"] else {})\n",
    ")\n",
    "print(df[\"Counts\"].head(20))\n",
    "print(type(df[\"Counts\"]))"
   ]
  },
  {
   "cell_type": "code",
   "execution_count": null,
   "id": "be9748a6",
   "metadata": {},
   "outputs": [
    {
     "data": {
      "text/plain": [
       "0    -0.378720\n",
       "1     0.000000\n",
       "2     0.000000\n",
       "3    -1.509730\n",
       "4    -1.720178\n",
       "5    -1.135238\n",
       "6    -2.514288\n",
       "7     1.534272\n",
       "8    -2.229715\n",
       "9    -2.023665\n",
       "10   -1.234451\n",
       "11   -0.769569\n",
       "12   -4.487829\n",
       "13   -1.073550\n",
       "14    0.436180\n",
       "15    0.000000\n",
       "16    1.534272\n",
       "17   -4.215102\n",
       "18    1.720991\n",
       "19   -3.112182\n",
       "Name: LLR, dtype: float64"
      ]
     },
     "execution_count": 293,
     "metadata": {},
     "output_type": "execute_result"
    }
   ],
   "source": [
    "def get_likelihood_ratio(counts,pM,pN):\n",
    "    counts=np.array(counts,dtype=float)\n",
    "    llM= float(multinomial.logpmf(counts, n=np.sum(counts), p=pM))\n",
    "    llN = float(multinomial.logpmf(counts, n=np.sum(counts), p=pN))\n",
    "    llr=llM-llN\n",
    "    return llr\n",
    "probs_df = pd.read_csv(\"/Users/reem/Downloads/estimated_mutation_distribution.tsv\", delimiter=\"\\t\")\n",
    "#probs_df\n",
    "\n",
    "pM=probs_df[\"Molnupiravir\"].values.tolist()\n",
    "pN=probs_df[\"Normal\"].values.tolist()\n",
    "mutation_types = probs_df[\"MutationType\"].str.replace(\"→\", \">\").tolist()\n",
    "\n",
    "\n",
    "llr_list=[]\n",
    "for i,row in df.iterrows():\n",
    "    counts_dict = row[\"Counts\"]\n",
    "    counts = [counts_dict.get(mut,0) for mut in mutation_types]\n",
    "    llr = get_likelihood_ratio(counts,pM,pN)\n",
    "    llr_list.append(llr)\n",
    "df[\"LLR\"] = llr_list\n",
    "df[\"LLR\"].head()\n",
    "\n",
    "\n",
    " "
   ]
  },
  {
   "cell_type": "code",
   "execution_count": 3,
   "id": "4bca40f7",
   "metadata": {},
   "outputs": [],
   "source": [
    "# context_cols = [col for col in df_pivot.columns if col not in [\"seqName\",\"LLR\"]]\n",
    "# mean_row = df_pivot[context_cols].mean()\n",
    "# mean_row = df_pivot.drop(columns = [\"seqName\",\"LLR\"]).mean()\n",
    "# mean_row[\"seqName\"] = \"Mean\"\n",
    "# mean_row[\"LLR\"] = \"None\"\n",
    "# mean_row = mean_row[df_pivot.columns]\n",
    "# df = pd.concat([df_pivot,pd.DataFrame([mean_row])],ignore_index=True)\n",
    "# print(df.tail(10))\n"
   ]
  },
  {
   "cell_type": "code",
   "execution_count": null,
   "id": "100b28d6",
   "metadata": {},
   "outputs": [],
   "source": [
    "def generate_all_possible_contexts(sub):\n",
    "    bases = [\"A\",\"C\",\"G\",\"T\"]\n",
    "    possible_contexts = []\n",
    "    for a in bases:\n",
    "        for b in bases:\n",
    "            possible_contexts.append(f\"{a}[{sub}]{b}\")\n",
    "    return possible_contexts\n",
    "print(generate_all_possible_contexts(\"G>A\"))"
   ]
  },
  {
   "cell_type": "code",
   "execution_count": null,
   "id": "4e443098",
   "metadata": {},
   "outputs": [],
   "source": [
    "# Compute mean context probabilities\n",
    "def get_mean_context_probs(df, llr_condition, prop_col, llr_col='LLR'):\n",
    "    \"\"\"\n",
    "    Filters dataframe into llr>6 and llr<6 and computes mean \n",
    "    proportions per substitution per context\n",
    "\n",
    "    Returns a flattened dataframe with mutational contexts,seqname,LLR\n",
    "    and computed means as the last row\n",
    "\n",
    "    \"\"\"\n",
    "\n",
    "    df_filtered = df[llr_condition(df[llr_col])].copy()\n",
    "    \n",
    "    pivot = pd.json_normalize(df_filtered[prop_col]).fillna(0)\n",
    "    pivot = pivot.loc[(pivot != 0).any(axis=1)]\n",
    "\n",
    "    return pivot.mean()\n",
    "\n",
    "print(get_mean_context_probs(df, llr_condition=lambda x: x > 1, prop_col=\"T>Cproportions\", llr_col='LLR'))\n",
    "def build_prob_table(df,prop_col,llr_high,llr_low,llr_col='LLR'):\n",
    "    \"\"\"\n",
    "    Builds a table of mean context probabilities (Molnupiravir vs Normal)\n",
    "    for a specific substitution type.\n",
    "    \"\"\"\n",
    "    llr_high=6\n",
    "    llr_low=6\n",
    "\n",
    "    Mov_probs = get_mean_context_probs(df.loc[(df!=0).any(axis=1)], lambda x: x > 6, prop_col='G>Aproportions')\n",
    "    Normal_probs  = get_mean_context_probs(df.loc[(df!=0).any(axis=1)], lambda x: x < 6, prop_col='G>Aproportions')\n",
    "    all_contexts = generate_all_possible_contexts(\"G>A\")\n",
    "\n",
    "    # Match means to all possible contexts\n",
    "    Mov_probs = Mov_probs.reindex(all_contexts, fill_value=0)\n",
    "    Normal_probs = Normal_probs.reindex(all_contexts, fill_value=0)\n",
    "\n",
    "    print(Mov_probs)\n",
    "    print(Normal_probs)\n",
    "\n",
    "    df_prob = pd.DataFrame({'Mutational_Context':all_contexts,\n",
    "                           'Molnupiravir': Mov_probs.values,\n",
    "                            'Normal': Normal_probs.values\n",
    "                            }) \n",
    "\n",
    "    \n",
    "    return df_prob\n",
    "\n",
    "\n",
    "df_prob = build_prob_table(df,prop_col='G>Aproportions',llr_high=6, llr_low=6, llr_col='LLR')\n",
    "\n",
    "print(df_prob)"
   ]
  },
  {
   "cell_type": "code",
   "execution_count": null,
   "id": "15fee914",
   "metadata": {},
   "outputs": [],
   "source": [
    "print(df_prob)\n",
    "print(df_prob[\"Molnupiravir\"].sum())\n",
    "print(df_prob[\"Normal\"].sum())"
   ]
  },
  {
   "cell_type": "code",
   "execution_count": null,
   "id": "f739b1dd",
   "metadata": {},
   "outputs": [],
   "source": [
    "def calculate_llr(count_dict, pM, pN, contexts):\n",
    "    counts = np.array([count_dict.get(ctx, 0) for ctx in contexts])\n",
    "    n = counts.sum()\n",
    "    if n == 0:\n",
    "        return np.nan\n",
    "    llM = multinomial.logpmf(counts, n=n, p=pM)\n",
    "    llN = multinomial.logpmf(counts, n=n, p=pN)\n",
    "    return float(llM - llN)\n",
    "\n",
    "contexts = df_prob[\"Mutational_Context\"].values.tolist()\n",
    "pM = df_prob[\"Molnupiravir\"].values.tolist()\n",
    "pN = df_prob[\"Normal\"].values.tolist()\n",
    "df[f\"G>A_llr\"] = df[\"G>A_counts\"].apply(lambda x: calculate_llr(x, pM, pN, contexts))\n",
    "\n",
    "print(df[f\"G>A_llr\"])\n"
   ]
  },
  {
   "cell_type": "code",
   "execution_count": null,
   "id": "8726b1c0",
   "metadata": {},
   "outputs": [],
   "source": [
    "len(df)"
   ]
  },
  {
   "cell_type": "code",
   "execution_count": null,
   "id": "be734b65",
   "metadata": {},
   "outputs": [],
   "source": [
    "df.to_csv(\"/Users/reem/Mov/final_llrs_per_context.tsv\", sep=\"\\t\", index=False) "
   ]
  },
  {
   "cell_type": "code",
   "execution_count": 4,
   "id": "3872fc73",
   "metadata": {},
   "outputs": [
    {
     "data": {
      "text/plain": [
       "'THE END!'"
      ]
     },
     "execution_count": 4,
     "metadata": {},
     "output_type": "execute_result"
    }
   ],
   "source": [
    "\"THE END!\""
   ]
  }
 ],
 "metadata": {
  "kernelspec": {
   "display_name": "base",
   "language": "python",
   "name": "python3"
  },
  "language_info": {
   "codemirror_mode": {
    "name": "ipython",
    "version": 3
   },
   "file_extension": ".py",
   "mimetype": "text/x-python",
   "name": "python",
   "nbconvert_exporter": "python",
   "pygments_lexer": "ipython3",
   "version": "3.13.7"
  }
 },
 "nbformat": 4,
 "nbformat_minor": 5
}
