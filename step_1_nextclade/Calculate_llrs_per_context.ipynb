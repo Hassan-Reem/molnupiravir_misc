{
 "cells": [
  {
   "cell_type": "code",
   "execution_count": null,
   "id": "3fd4fb84",
   "metadata": {},
   "outputs": [],
   "source": [
    "import pandas as pd\n",
    "import os\n",
    "from Bio import Entrez, SeqIO\n",
    "import tqdm\n",
    "from collections import Counter\n",
    "import numpy as np\n",
    "from scipy.stats import multinomial\n",
    "import numpy as np\n",
    "import ast\n"
   ]
  },
  {
   "cell_type": "code",
   "execution_count": null,
   "id": "694b1dc0",
   "metadata": {},
   "outputs": [],
   "source": [
    "iterator = pd.read_csv(\"/Users/reem/Mov/final_results_LLRs.tsv\",sep=\"\\t\", chunksize=1000)\n",
    "df = pd.concat([chunk for chunk in tqdm.tqdm(iterator, desc='Loading data')])"
   ]
  },
  {
   "cell_type": "code",
   "execution_count": null,
   "id": "3403f36d",
   "metadata": {},
   "outputs": [],
   "source": [
    "def generate_all_possible_contexts(sub):\n",
    "    bases = [\"A\",\"C\",\"G\",\"T\"]\n",
    "    possible_contexts = []\n",
    "    for a in bases:\n",
    "        for b in bases:\n",
    "            possible_contexts.append(f\"{a}[{sub}]{b}\")\n",
    "    return possible_contexts\n",
    "print(generate_all_possible_contexts(\"G>A\"))"
   ]
  },
  {
   "cell_type": "code",
   "execution_count": null,
   "id": "765b2668",
   "metadata": {},
   "outputs": [],
   "source": [
    "# Compute mean context probabilities\n",
    "def get_mean_context_probs(df, llr_condition, prop_col, llr_col='LLR'):\n",
    "    \"\"\"\n",
    "    Filters dataframe into llr>6 and llr<6 and computes mean \n",
    "    proportions per substitution per context\n",
    "\n",
    "    Returns a flattened dataframe with mutational contexts,seqname,LLR\n",
    "    and computed means as the last row\n",
    "\n",
    "    \"\"\"\n",
    "\n",
    "    df_filtered = df[llr_condition(df[llr_col])].copy()\n",
    "    \n",
    "    pivot = pd.json_normalize(df_filtered[prop_col]).fillna(0)\n",
    "    pivot = pivot.loc[(pivot != 0).any(axis=1)]\n",
    "\n",
    "    return pivot.mean()\n",
    "\n",
    "print(get_mean_context_probs(df, llr_condition=lambda x: x > 1, prop_col=\"T>Cproportions\", llr_col='LLR'))\n",
    "def build_prob_table(df,prop_col,llr_high,llr_low,llr_col='LLR'):\n",
    "    \"\"\"\n",
    "    Builds a table of mean context probabilities (Molnupiravir vs Normal)\n",
    "    for a specific substitution type.\n",
    "    \"\"\"\n",
    "    llr_high=6\n",
    "    llr_low=6\n",
    "\n",
    "    Mov_probs = get_mean_context_probs(df.loc[(df!=0).any(axis=1)], lambda x: x > 6, prop_col='G>Aproportions')\n",
    "    Normal_probs  = get_mean_context_probs(df.loc[(df!=0).any(axis=1)], lambda x: x < 6, prop_col='G>Aproportions')\n",
    "    all_contexts = generate_all_possible_contexts(\"G>A\")\n",
    "\n",
    "    # Match means to all possible contexts\n",
    "    Mov_probs = Mov_probs.reindex(all_contexts, fill_value=0)\n",
    "    Normal_probs = Normal_probs.reindex(all_contexts, fill_value=0)\n",
    "\n",
    "    print(Mov_probs)\n",
    "    print(Normal_probs)\n",
    "\n",
    "    df_prob = pd.DataFrame({'Mutational_Context':all_contexts,\n",
    "                           'Molnupiravir': Mov_probs.values,\n",
    "                            'Normal': Normal_probs.values\n",
    "                            }) \n",
    "\n",
    "    \n",
    "    return df_prob\n",
    "\n",
    "\n",
    "df_prob = build_prob_table(df,prop_col='G>Aproportions',llr_high=6, llr_low=6, llr_col='LLR')\n",
    "\n",
    "print(df_prob)"
   ]
  },
  {
   "cell_type": "code",
   "execution_count": null,
   "id": "24d9cfb7",
   "metadata": {},
   "outputs": [],
   "source": [
    "print(df_prob)\n",
    "print(df_prob[\"Molnupiravir\"].sum())\n",
    "print(df_prob[\"Normal\"].sum())"
   ]
  },
  {
   "cell_type": "code",
   "execution_count": null,
   "id": "ba4d104c",
   "metadata": {},
   "outputs": [],
   "source": [
    "def calculate_llr(count_dict, pM, pN, contexts):\n",
    "    counts = np.array([count_dict.get(ctx, 0) for ctx in contexts])\n",
    "    n = counts.sum()\n",
    "    if n == 0:\n",
    "        return np.nan\n",
    "    llM = multinomial.logpmf(counts, n=n, p=pM)\n",
    "    llN = multinomial.logpmf(counts, n=n, p=pN)\n",
    "    return float(llM - llN)\n",
    "\n",
    "contexts = df_prob[\"Mutational_Context\"].values.tolist()\n",
    "pM = df_prob[\"Molnupiravir\"].values.tolist()\n",
    "pN = df_prob[\"Normal\"].values.tolist()\n",
    "df[f\"G>A_llr\"] = df[\"G>A_counts\"].apply(lambda x: calculate_llr(x, pM, pN, contexts))\n",
    "\n",
    "print(df[f\"G>A_llr\"])\n"
   ]
  },
  {
   "cell_type": "code",
   "execution_count": null,
   "id": "c5ea79e3",
   "metadata": {},
   "outputs": [],
   "source": [
    "len(df)"
   ]
  },
  {
   "cell_type": "code",
   "execution_count": null,
   "id": "9d43e108",
   "metadata": {},
   "outputs": [],
   "source": [
    "df.to_csv(\"/Users/reem/Mov/final_llrs_per_context.tsv\", sep=\"\\t\", index=False) "
   ]
  },
  {
   "cell_type": "code",
   "execution_count": null,
   "id": "1ae23983",
   "metadata": {},
   "outputs": [],
   "source": [
    "\"THE END\""
   ]
  }
 ],
 "metadata": {
  "language_info": {
   "name": "python"
  }
 },
 "nbformat": 4,
 "nbformat_minor": 5
}
