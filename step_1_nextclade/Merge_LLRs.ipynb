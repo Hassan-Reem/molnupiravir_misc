{
 "cells": [
  {
   "cell_type": "code",
   "execution_count": 1,
   "id": "2642a9bd",
   "metadata": {},
   "outputs": [],
   "source": [
    "import pandas as pd\n",
    "import os\n",
    "import numpy as np\n",
    "import tqdm"
   ]
  },
  {
   "cell_type": "code",
   "execution_count": 2,
   "id": "4f2eafee",
   "metadata": {},
   "outputs": [
    {
     "name": "stderr",
     "output_type": "stream",
     "text": [
      "Loading data: 17435it [00:13, 1245.72it/s]\n"
     ]
    }
   ],
   "source": [
    "iterator = pd.read_csv(\"/Users/reem/Mov/nextclade_results/deduplicated_final_llr.tsv\", sep=\"\\t\", usecols = [\"seqName\", \"LLR\"], dtype ={\"seqName\":str, \"LLR\": np.float64}, chunksize=1000)\n",
    "old_df = pd.concat([chunk for chunk in tqdm.tqdm(iterator, desc='Loading data')])\n",
    "\n"
   ]
  },
  {
   "cell_type": "code",
   "execution_count": 3,
   "id": "5d12ee28",
   "metadata": {},
   "outputs": [],
   "source": [
    "old_df = old_df.rename(columns={\"LLR\": \"LLR_1\"})"
   ]
  },
  {
   "cell_type": "code",
   "execution_count": 15,
   "id": "907397ab",
   "metadata": {},
   "outputs": [
    {
     "data": {
      "text/plain": [
       "17434625"
      ]
     },
     "execution_count": 15,
     "metadata": {},
     "output_type": "execute_result"
    }
   ],
   "source": [
    "len(old_df)"
   ]
  },
  {
   "cell_type": "code",
   "execution_count": 17,
   "id": "d8932eb0",
   "metadata": {},
   "outputs": [
    {
     "name": "stderr",
     "output_type": "stream",
     "text": [
      "Loading data: 17435it [00:24, 699.11it/s]\n"
     ]
    }
   ],
   "source": [
    "iterator = pd.read_csv(\"/Users/reem/Mov/nextclade_results/GtoAcontext_llrs.tsv\", sep=\"\\t\", usecols = [\"seqName\", \"LLR\"], dtype ={\"seqName\":str, \"LLR\": np.float64}, chunksize=1000)\n",
    "new_df = pd.concat([chunk for chunk in tqdm.tqdm(iterator, desc='Loading data')])"
   ]
  },
  {
   "cell_type": "code",
   "execution_count": 18,
   "id": "5e9b6c1a",
   "metadata": {},
   "outputs": [
    {
     "data": {
      "text/plain": [
       "17434625"
      ]
     },
     "execution_count": 18,
     "metadata": {},
     "output_type": "execute_result"
    }
   ],
   "source": [
    "len(new_df)"
   ]
  },
  {
   "cell_type": "code",
   "execution_count": 19,
   "id": "612fd5f2",
   "metadata": {},
   "outputs": [],
   "source": [
    "new_df = new_df[[\"seqName\", \"LLR\"]].rename(columns={\"LLR\": \"LLR_2\"})\n"
   ]
  },
  {
   "cell_type": "code",
   "execution_count": 20,
   "id": "f5246912",
   "metadata": {},
   "outputs": [],
   "source": [
    "merged_llrs = pd.merge(old_df, new_df, on=\"seqName\")"
   ]
  },
  {
   "cell_type": "code",
   "execution_count": 24,
   "id": "fb6bb6a3",
   "metadata": {},
   "outputs": [
    {
     "data": {
      "text/html": [
       "<div>\n",
       "<style scoped>\n",
       "    .dataframe tbody tr th:only-of-type {\n",
       "        vertical-align: middle;\n",
       "    }\n",
       "\n",
       "    .dataframe tbody tr th {\n",
       "        vertical-align: top;\n",
       "    }\n",
       "\n",
       "    .dataframe thead th {\n",
       "        text-align: right;\n",
       "    }\n",
       "</style>\n",
       "<table border=\"1\" class=\"dataframe\">\n",
       "  <thead>\n",
       "    <tr style=\"text-align: right;\">\n",
       "      <th></th>\n",
       "      <th>seqName</th>\n",
       "      <th>LLR_1</th>\n",
       "      <th>LLR_2</th>\n",
       "    </tr>\n",
       "  </thead>\n",
       "  <tbody>\n",
       "    <tr>\n",
       "      <th>0</th>\n",
       "      <td>hCoV-19/USA/MO-WRAIR-COX5040NPS/2020|2020-08-1...</td>\n",
       "      <td>-0.378720</td>\n",
       "      <td>3.056241</td>\n",
       "    </tr>\n",
       "    <tr>\n",
       "      <th>1</th>\n",
       "      <td>hCoV-19/Belgium/UGent-14493/2021|2021-12-22|20...</td>\n",
       "      <td>0.000000</td>\n",
       "      <td>0.000000</td>\n",
       "    </tr>\n",
       "    <tr>\n",
       "      <th>2</th>\n",
       "      <td>hCoV-19/France/IDF-HMN-21052200412/2021|2021-0...</td>\n",
       "      <td>0.000000</td>\n",
       "      <td>0.000000</td>\n",
       "    </tr>\n",
       "    <tr>\n",
       "      <th>3</th>\n",
       "      <td>hCoV-19/England/LSPA-37EF052/2022|2022-02-21|2...</td>\n",
       "      <td>-1.509730</td>\n",
       "      <td>0.000000</td>\n",
       "    </tr>\n",
       "    <tr>\n",
       "      <th>4</th>\n",
       "      <td>hCoV-19/Germany/BE-RKI-I-595719/2022|2022-02-2...</td>\n",
       "      <td>-1.720178</td>\n",
       "      <td>0.000000</td>\n",
       "    </tr>\n",
       "    <tr>\n",
       "      <th>5</th>\n",
       "      <td>hCoV-19/Russia/TAM-RII-MH144950S/2023|2023-09-...</td>\n",
       "      <td>-1.135238</td>\n",
       "      <td>0.000000</td>\n",
       "    </tr>\n",
       "    <tr>\n",
       "      <th>6</th>\n",
       "      <td>hCoV-19/Canada/ON-KHS-21-06687-v1/2021|2021-12...</td>\n",
       "      <td>-2.514288</td>\n",
       "      <td>0.985277</td>\n",
       "    </tr>\n",
       "    <tr>\n",
       "      <th>7</th>\n",
       "      <td>hCoV-19/Germany/NW-RKI-I-854767/2022|2022-02-0...</td>\n",
       "      <td>1.534272</td>\n",
       "      <td>0.000000</td>\n",
       "    </tr>\n",
       "    <tr>\n",
       "      <th>8</th>\n",
       "      <td>hCoV-19/England/ALDP-1FEE90B/2021|2021-09-29|2...</td>\n",
       "      <td>-2.229715</td>\n",
       "      <td>0.000000</td>\n",
       "    </tr>\n",
       "    <tr>\n",
       "      <th>9</th>\n",
       "      <td>hCoV-19/Northern Mariana Islands/MP-CDC-2-5839...</td>\n",
       "      <td>-2.023665</td>\n",
       "      <td>0.000000</td>\n",
       "    </tr>\n",
       "    <tr>\n",
       "      <th>10</th>\n",
       "      <td>hCoV-19/Canada/AB-ABPHL-14064/2021|2021-04-13|...</td>\n",
       "      <td>-1.234451</td>\n",
       "      <td>0.000000</td>\n",
       "    </tr>\n",
       "    <tr>\n",
       "      <th>11</th>\n",
       "      <td>hCoV-19/USA/PA-CDC-LC0243874/2021|2021-08-19|2...</td>\n",
       "      <td>-0.769569</td>\n",
       "      <td>0.966537</td>\n",
       "    </tr>\n",
       "    <tr>\n",
       "      <th>12</th>\n",
       "      <td>hCoV-19/USA/TX-QDX-4525/2020|2020-10-20|2021-0...</td>\n",
       "      <td>-4.487829</td>\n",
       "      <td>-0.243338</td>\n",
       "    </tr>\n",
       "    <tr>\n",
       "      <th>13</th>\n",
       "      <td>hCoV-19/Wales/PHWC-265E7/2020|2020-03-27|2020-...</td>\n",
       "      <td>-1.073550</td>\n",
       "      <td>0.000000</td>\n",
       "    </tr>\n",
       "    <tr>\n",
       "      <th>14</th>\n",
       "      <td>hCoV-19/France/PAC-IHU-64566_Nova1RZ/2022|2022...</td>\n",
       "      <td>0.436180</td>\n",
       "      <td>0.000000</td>\n",
       "    </tr>\n",
       "    <tr>\n",
       "      <th>15</th>\n",
       "      <td>hCoV-19/Canada/AB-ABPHL-118146/2024|2024-05-25...</td>\n",
       "      <td>0.000000</td>\n",
       "      <td>0.000000</td>\n",
       "    </tr>\n",
       "    <tr>\n",
       "      <th>16</th>\n",
       "      <td>hCoV-19/Canada/ON-KHS-22-02511-v1/2022|2022-03...</td>\n",
       "      <td>1.534272</td>\n",
       "      <td>0.000000</td>\n",
       "    </tr>\n",
       "    <tr>\n",
       "      <th>17</th>\n",
       "      <td>hCoV-19/Germany/BY-LGL-e00be13/2021|2021-11-19...</td>\n",
       "      <td>-4.215102</td>\n",
       "      <td>0.248802</td>\n",
       "    </tr>\n",
       "    <tr>\n",
       "      <th>18</th>\n",
       "      <td>hCoV-19/USA/HI-H2327938/2024|2024-01-30|2024-0...</td>\n",
       "      <td>1.720991</td>\n",
       "      <td>0.982433</td>\n",
       "    </tr>\n",
       "    <tr>\n",
       "      <th>19</th>\n",
       "      <td>hCoV-19/USA/RI_SHL00533/2024|2024-01-14|2024-0...</td>\n",
       "      <td>-3.112182</td>\n",
       "      <td>0.000000</td>\n",
       "    </tr>\n",
       "    <tr>\n",
       "      <th>20</th>\n",
       "      <td>hCoV-19/Denmark/ALAB-SSI-648/2020|2020-03-28|2...</td>\n",
       "      <td>0.000000</td>\n",
       "      <td>0.000000</td>\n",
       "    </tr>\n",
       "    <tr>\n",
       "      <th>21</th>\n",
       "      <td>hCoV-19/South Korea/KDCA40857s/2023|2023-06-09...</td>\n",
       "      <td>0.000000</td>\n",
       "      <td>0.000000</td>\n",
       "    </tr>\n",
       "    <tr>\n",
       "      <th>22</th>\n",
       "      <td>hCoV-19/Germany/SN-RKI-I-196054/2021|2021-07-3...</td>\n",
       "      <td>-1.509730</td>\n",
       "      <td>0.000000</td>\n",
       "    </tr>\n",
       "    <tr>\n",
       "      <th>23</th>\n",
       "      <td>hCoV-19/England/QEUH-1016541/2021|2021-01-15|2...</td>\n",
       "      <td>-3.687546</td>\n",
       "      <td>0.000000</td>\n",
       "    </tr>\n",
       "    <tr>\n",
       "      <th>24</th>\n",
       "      <td>hCoV-19/England/ALDP-3C3ADB6/2022|2022-03-24|2...</td>\n",
       "      <td>-1.509730</td>\n",
       "      <td>0.000000</td>\n",
       "    </tr>\n",
       "    <tr>\n",
       "      <th>25</th>\n",
       "      <td>hCoV-19/USA/MA-CDCBI-CRSP_S2LYKZNWX5UHL5ZC/202...</td>\n",
       "      <td>-0.092721</td>\n",
       "      <td>0.000000</td>\n",
       "    </tr>\n",
       "    <tr>\n",
       "      <th>26</th>\n",
       "      <td>hCoV-19/England/QEUH-9E4607/2020|2020-09-23|20...</td>\n",
       "      <td>2.249892</td>\n",
       "      <td>1.239824</td>\n",
       "    </tr>\n",
       "    <tr>\n",
       "      <th>27</th>\n",
       "      <td>hCoV-19/USA/TX-HMH-MCoV-24806/2021|2021-01-18|...</td>\n",
       "      <td>0.872360</td>\n",
       "      <td>0.000000</td>\n",
       "    </tr>\n",
       "    <tr>\n",
       "      <th>28</th>\n",
       "      <td>hCoV-19/USA/KY-KSPHL-100535/2021|2021-04-26|20...</td>\n",
       "      <td>0.686454</td>\n",
       "      <td>0.000000</td>\n",
       "    </tr>\n",
       "    <tr>\n",
       "      <th>29</th>\n",
       "      <td>hCoV-19/USA/NC-CDC-ASC210183720/2021|2021-08-0...</td>\n",
       "      <td>-1.073550</td>\n",
       "      <td>0.000000</td>\n",
       "    </tr>\n",
       "  </tbody>\n",
       "</table>\n",
       "</div>"
      ],
      "text/plain": [
       "                                              seqName     LLR_1     LLR_2\n",
       "0   hCoV-19/USA/MO-WRAIR-COX5040NPS/2020|2020-08-1... -0.378720  3.056241\n",
       "1   hCoV-19/Belgium/UGent-14493/2021|2021-12-22|20...  0.000000  0.000000\n",
       "2   hCoV-19/France/IDF-HMN-21052200412/2021|2021-0...  0.000000  0.000000\n",
       "3   hCoV-19/England/LSPA-37EF052/2022|2022-02-21|2... -1.509730  0.000000\n",
       "4   hCoV-19/Germany/BE-RKI-I-595719/2022|2022-02-2... -1.720178  0.000000\n",
       "5   hCoV-19/Russia/TAM-RII-MH144950S/2023|2023-09-... -1.135238  0.000000\n",
       "6   hCoV-19/Canada/ON-KHS-21-06687-v1/2021|2021-12... -2.514288  0.985277\n",
       "7   hCoV-19/Germany/NW-RKI-I-854767/2022|2022-02-0...  1.534272  0.000000\n",
       "8   hCoV-19/England/ALDP-1FEE90B/2021|2021-09-29|2... -2.229715  0.000000\n",
       "9   hCoV-19/Northern Mariana Islands/MP-CDC-2-5839... -2.023665  0.000000\n",
       "10  hCoV-19/Canada/AB-ABPHL-14064/2021|2021-04-13|... -1.234451  0.000000\n",
       "11  hCoV-19/USA/PA-CDC-LC0243874/2021|2021-08-19|2... -0.769569  0.966537\n",
       "12  hCoV-19/USA/TX-QDX-4525/2020|2020-10-20|2021-0... -4.487829 -0.243338\n",
       "13  hCoV-19/Wales/PHWC-265E7/2020|2020-03-27|2020-... -1.073550  0.000000\n",
       "14  hCoV-19/France/PAC-IHU-64566_Nova1RZ/2022|2022...  0.436180  0.000000\n",
       "15  hCoV-19/Canada/AB-ABPHL-118146/2024|2024-05-25...  0.000000  0.000000\n",
       "16  hCoV-19/Canada/ON-KHS-22-02511-v1/2022|2022-03...  1.534272  0.000000\n",
       "17  hCoV-19/Germany/BY-LGL-e00be13/2021|2021-11-19... -4.215102  0.248802\n",
       "18  hCoV-19/USA/HI-H2327938/2024|2024-01-30|2024-0...  1.720991  0.982433\n",
       "19  hCoV-19/USA/RI_SHL00533/2024|2024-01-14|2024-0... -3.112182  0.000000\n",
       "20  hCoV-19/Denmark/ALAB-SSI-648/2020|2020-03-28|2...  0.000000  0.000000\n",
       "21  hCoV-19/South Korea/KDCA40857s/2023|2023-06-09...  0.000000  0.000000\n",
       "22  hCoV-19/Germany/SN-RKI-I-196054/2021|2021-07-3... -1.509730  0.000000\n",
       "23  hCoV-19/England/QEUH-1016541/2021|2021-01-15|2... -3.687546  0.000000\n",
       "24  hCoV-19/England/ALDP-3C3ADB6/2022|2022-03-24|2... -1.509730  0.000000\n",
       "25  hCoV-19/USA/MA-CDCBI-CRSP_S2LYKZNWX5UHL5ZC/202... -0.092721  0.000000\n",
       "26  hCoV-19/England/QEUH-9E4607/2020|2020-09-23|20...  2.249892  1.239824\n",
       "27  hCoV-19/USA/TX-HMH-MCoV-24806/2021|2021-01-18|...  0.872360  0.000000\n",
       "28  hCoV-19/USA/KY-KSPHL-100535/2021|2021-04-26|20...  0.686454  0.000000\n",
       "29  hCoV-19/USA/NC-CDC-ASC210183720/2021|2021-08-0... -1.073550  0.000000"
      ]
     },
     "execution_count": 24,
     "metadata": {},
     "output_type": "execute_result"
    }
   ],
   "source": [
    "merged_llrs.head(30)"
   ]
  },
  {
   "cell_type": "code",
   "execution_count": 22,
   "id": "543c529c",
   "metadata": {},
   "outputs": [
    {
     "data": {
      "text/plain": [
       "17434625"
      ]
     },
     "execution_count": 22,
     "metadata": {},
     "output_type": "execute_result"
    }
   ],
   "source": [
    "len(merged_llrs)"
   ]
  },
  {
   "cell_type": "code",
   "execution_count": 36,
   "id": "92ea4a9a",
   "metadata": {},
   "outputs": [
    {
     "name": "stdout",
     "output_type": "stream",
     "text": [
      "                                             seqName  LLR_first   G>A_LLR\n",
      "0  hCoV-19/USA/MO-WRAIR-COX5040NPS/2020|2020-08-1...  -0.378720  3.056241\n",
      "1  hCoV-19/Belgium/UGent-14493/2021|2021-12-22|20...   0.000000  0.000000\n",
      "2  hCoV-19/France/IDF-HMN-21052200412/2021|2021-0...   0.000000  0.000000\n",
      "3  hCoV-19/England/LSPA-37EF052/2022|2022-02-21|2...  -1.509730  0.000000\n",
      "4  hCoV-19/Germany/BE-RKI-I-595719/2022|2022-02-2...  -1.720178  0.000000\n"
     ]
    }
   ],
   "source": [
    "merged_llrs = merged_llrs.rename(columns = {'LLR_1':'LLR_first','LLR_2':'G>A_LLR'})\n",
    "print(merged_llrs.head())"
   ]
  },
  {
   "cell_type": "code",
   "execution_count": 37,
   "id": "7fcdf7c5",
   "metadata": {},
   "outputs": [
    {
     "data": {
      "text/html": [
       "<div>\n",
       "<style scoped>\n",
       "    .dataframe tbody tr th:only-of-type {\n",
       "        vertical-align: middle;\n",
       "    }\n",
       "\n",
       "    .dataframe tbody tr th {\n",
       "        vertical-align: top;\n",
       "    }\n",
       "\n",
       "    .dataframe thead th {\n",
       "        text-align: right;\n",
       "    }\n",
       "</style>\n",
       "<table border=\"1\" class=\"dataframe\">\n",
       "  <thead>\n",
       "    <tr style=\"text-align: right;\">\n",
       "      <th></th>\n",
       "      <th>seqName</th>\n",
       "      <th>LLR_first</th>\n",
       "      <th>G&gt;A_LLR</th>\n",
       "    </tr>\n",
       "  </thead>\n",
       "  <tbody>\n",
       "    <tr>\n",
       "      <th>0</th>\n",
       "      <td>hCoV-19/USA/MO-WRAIR-COX5040NPS/2020|2020-08-1...</td>\n",
       "      <td>-0.378720</td>\n",
       "      <td>3.056241</td>\n",
       "    </tr>\n",
       "    <tr>\n",
       "      <th>1</th>\n",
       "      <td>hCoV-19/Belgium/UGent-14493/2021|2021-12-22|20...</td>\n",
       "      <td>0.000000</td>\n",
       "      <td>0.000000</td>\n",
       "    </tr>\n",
       "    <tr>\n",
       "      <th>2</th>\n",
       "      <td>hCoV-19/France/IDF-HMN-21052200412/2021|2021-0...</td>\n",
       "      <td>0.000000</td>\n",
       "      <td>0.000000</td>\n",
       "    </tr>\n",
       "    <tr>\n",
       "      <th>3</th>\n",
       "      <td>hCoV-19/England/LSPA-37EF052/2022|2022-02-21|2...</td>\n",
       "      <td>-1.509730</td>\n",
       "      <td>0.000000</td>\n",
       "    </tr>\n",
       "    <tr>\n",
       "      <th>4</th>\n",
       "      <td>hCoV-19/Germany/BE-RKI-I-595719/2022|2022-02-2...</td>\n",
       "      <td>-1.720178</td>\n",
       "      <td>0.000000</td>\n",
       "    </tr>\n",
       "  </tbody>\n",
       "</table>\n",
       "</div>"
      ],
      "text/plain": [
       "                                             seqName  LLR_first   G>A_LLR\n",
       "0  hCoV-19/USA/MO-WRAIR-COX5040NPS/2020|2020-08-1...  -0.378720  3.056241\n",
       "1  hCoV-19/Belgium/UGent-14493/2021|2021-12-22|20...   0.000000  0.000000\n",
       "2  hCoV-19/France/IDF-HMN-21052200412/2021|2021-0...   0.000000  0.000000\n",
       "3  hCoV-19/England/LSPA-37EF052/2022|2022-02-21|2...  -1.509730  0.000000\n",
       "4  hCoV-19/Germany/BE-RKI-I-595719/2022|2022-02-2...  -1.720178  0.000000"
      ]
     },
     "execution_count": 37,
     "metadata": {},
     "output_type": "execute_result"
    }
   ],
   "source": [
    "merged_llrs.head()"
   ]
  },
  {
   "cell_type": "code",
   "execution_count": 38,
   "id": "7eb27669",
   "metadata": {},
   "outputs": [],
   "source": [
    "#merged_sorted_llr = merged_llrs.sort_values(by=\"LLR_1\", ascending=False)\n",
    "merged_llrs.to_csv(\"/Users/reem/Mov/nextclade_results/merged_llrs.tsv\",sep=\"\\t\")"
   ]
  },
  {
   "cell_type": "code",
   "execution_count": null,
   "id": "26ad9b49",
   "metadata": {},
   "outputs": [],
   "source": []
  }
 ],
 "metadata": {
  "kernelspec": {
   "display_name": "base",
   "language": "python",
   "name": "python3"
  },
  "language_info": {
   "codemirror_mode": {
    "name": "ipython",
    "version": 3
   },
   "file_extension": ".py",
   "mimetype": "text/x-python",
   "name": "python",
   "nbconvert_exporter": "python",
   "pygments_lexer": "ipython3",
   "version": "3.13.7"
  }
 },
 "nbformat": 4,
 "nbformat_minor": 5
}
